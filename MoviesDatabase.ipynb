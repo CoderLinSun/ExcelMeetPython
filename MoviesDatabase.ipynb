{
 "cells": [
  {
   "cell_type": "markdown",
   "metadata": {},
   "source": [
    "# Excel meets Python\n",
    "### Using a movies database to perform my first steps\n",
    "\n",
    "\n",
    "by Lin Sun \n",
    "\n",
    "---"
   ]
  },
  {
   "cell_type": "markdown",
   "metadata": {},
   "source": [
    "# Introduction\n",
    "## Backgound\n",
    "Excel is an extensively used tool in accouting, I used it nearly on daily basis. It's a powerfull tool but there are a few things that I sometimes consider as limitations:\n",
    "- Automation over many sheets or files\n",
    "- Handling of big files (a human could easily lose the overview)\n",
    "\n",
    "So when I selected a project for my programming course in Python, I imagined that I could use this opportunity to look at the possibilities offered by Python to manage those issues. I especially wanted to verify three things I had heard about Phyton:\n",
    "- It is very \"easy\" to program in Python\n",
    "- Python is a very rich, as many powerful libraries are available\n",
    "- It can be efficiently used in combination with Excel\n"
   ]
  },
  {
   "cell_type": "markdown",
   "metadata": {},
   "source": [
    "## Project outline\n",
    "My goal in this project is to explore the possibilities offered by *Python in combination with Excel*\\\n",
    "As a Python beginner I knew it would not be wise to start a too complex project. So I intentionally limited the scope of my project to the most simple and usual Excel functions. But still I wanted a project with a result, I wanted something visual.\n",
    "\n",
    "While looking for inspiration on Internet, I found a film database containing data of films from nearly the beginning of the film industry until now. So I thought my project could simply show some statistics about the film industry over the years.\n",
    "\n",
    "In the scope of this project, I will \"play\" with that database and perform, *using Python*, some of the most basic Excel functions. Here the functionality I will use:\n",
    "- Open an excel file\n",
    "- Read the content of a excel table\n",
    "- Read different worksheets and combine them\n",
    "- Select colums\n",
    "- Filter some data\n",
    "- Manipulate data\n",
    "- Create a pivot table\n",
    "- Draw selected data on a graphic\n",
    "- Save an excel table\n",
    "\n",
    "For me the most demanding things were first to understand the framework used to access/modify an excel file and how to work with it. Manipulating the data to obtain the data I wanted was quite a challenge too.\n",
    "\n",
    "\n",
    "### *So if you are interested, come and follow me...*"
   ]
  },
  {
   "cell_type": "markdown",
   "metadata": {},
   "source": [
    "# The Project\n",
    "## Chosing the libraries"
   ]
  },
  {
   "cell_type": "markdown",
   "metadata": {},
   "source": [
    "Before I started writing any code, I had to first find out if there were appropriate **libraries** available that would make my work easier.\n",
    "For working with **Excel files** there are different libraries available. I chose to work with `pandas` which seems to be a little bit more popular than others.\n",
    "\n",
    "Once my data has been sorted and computed, I want to **display some graphics** of those data. Here too there are different libraries, I chose to work with `matplotlib`\n"
   ]
  },
  {
   "cell_type": "markdown",
   "metadata": {},
   "source": [
    "## Loading the libraries"
   ]
  },
  {
   "cell_type": "code",
   "execution_count": null,
   "metadata": {},
   "outputs": [],
   "source": [
    "import pandas as pd\n",
    "import numpy as np\n",
    "import matplotlib.pyplot as plt\n"
   ]
  },
  {
   "cell_type": "markdown",
   "metadata": {},
   "source": [
    "## Open an excel file\n",
    "To open an Excel file with `pandas` one uses a funtion named `read_excel`\\\n",
    "The function `read_excel` takes many different parameters. As time is short, I didn't have the opportunity to try many of them. Here is the reference to the `read_excel` function.\\\n",
    "https://pandas.pydata.org/pandas-docs/stable/reference/api/pandas.read_excel.html"
   ]
  },
  {
   "cell_type": "code",
   "execution_count": null,
   "metadata": {},
   "outputs": [],
   "source": [
    "# First read the complete file into a variable called 'movies'\n",
    "excel_file = 'movies.xls'\n",
    "movies = pd.read_excel(excel_file)\n"
   ]
  },
  {
   "cell_type": "markdown",
   "metadata": {},
   "source": [
    "**Wow!** So that was quite an easy one...\\\n",
    "But what did I do actually? What is that *movies* variable that I created?\\\n",
    "Well, let's look at its **type**."
   ]
  },
  {
   "cell_type": "markdown",
   "metadata": {},
   "source": [
    "## Data type"
   ]
  },
  {
   "cell_type": "code",
   "execution_count": null,
   "metadata": {},
   "outputs": [],
   "source": [
    "print(type(movies))"
   ]
  },
  {
   "cell_type": "markdown",
   "metadata": {},
   "source": [
    "`DataFrame`? I have no clue what this could be. So I need to google it.\\\n",
    "Here some help pages about `DataFrame`:\\\n",
    "https://www.geeksforgeeks.org/python-pandas-dataframe/  \\\n",
    "https://pandas.pydata.org/pandas-docs/stable/reference/api/pandas.DataFrame.html \\\n",
    "https://www.learndatasci.com/tutorials/python-pandas-tutorial-complete-introduction-for-beginners\n",
    "\n",
    "So `DataFrame` seems to the the basic structure that `pandas` uses and on which I can perform the functions I need.\\\n",
    "And so my **movies** variable is a `DataFrame`. I will use it all along my program as the variable containing the complete content of the Excel file.\\\n",
    "The image below shows how such a `DataFrame` is organized\n",
    "(origin https://www.w3resource.com/w3r_images/pandas-data-structure.svg)"
   ]
  },
  {
   "cell_type": "markdown",
   "metadata": {},
   "source": [
    "![DataFrame](pandas-data-structure.svg)"
   ]
  },
  {
   "cell_type": "markdown",
   "metadata": {},
   "source": [
    "## Select a range of rows and columns\n"
   ]
  },
  {
   "cell_type": "markdown",
   "metadata": {},
   "source": [
    "Well let's give a look at the *content* of my `DataFrame`. I will here try to select (and display) a few rows and some columns, just to get used working with this `DataFrame` class."
   ]
  },
  {
   "cell_type": "markdown",
   "metadata": {},
   "source": [
    "### Rows with head and tail\n",
    "With print and `tail(X)` resp. `head(X)` I can see the first/last X rows of the excel table.\\\n",
    "Very useful, when you have such a big table.\\\n",
    "But of course you are not restricted the last and first entries you can also specify a range ..."
   ]
  },
  {
   "cell_type": "code",
   "execution_count": null,
   "metadata": {
    "scrolled": true
   },
   "outputs": [],
   "source": [
    "print(movies.head(3))"
   ]
  },
  {
   "cell_type": "markdown",
   "metadata": {},
   "source": [
    "### Select a range of rows by index"
   ]
  },
  {
   "cell_type": "markdown",
   "metadata": {},
   "source": [
    "Selecting a range of rows is really easy, select a range like a for a list: `movies[range]` \\\n",
    "However in combinations with columns those indexes are not always intuitive, so the following link helped me:\\\n",
    "https://www.novixys.com/blog/pandas-tutorial-select-dataframe/\n",
    "\n",
    "`movies.tail(X)` is a shortcut for movies[-X:] \\\n",
    "`movies.head(X)` is a shortcut for movies[:X]\n",
    "\n",
    "Here comes a simple selection for a range of rows"
   ]
  },
  {
   "cell_type": "code",
   "execution_count": null,
   "metadata": {
    "scrolled": true
   },
   "outputs": [],
   "source": [
    "print(movies[7:10])"
   ]
  },
  {
   "cell_type": "markdown",
   "metadata": {},
   "source": [
    "### Selecting some columns\n",
    "As mentionned above, accessing a range within at `DataFrame` is not always intuitive. But here comes an example where I **select** only a few **columns** for a **range of rows** and in a **reverse order**. Yes, I can!"
   ]
  },
  {
   "cell_type": "code",
   "execution_count": null,
   "metadata": {},
   "outputs": [],
   "source": [
    "print(movies[['Title','Genres']][9:6:-1])"
   ]
  },
  {
   "cell_type": "markdown",
   "metadata": {},
   "source": [
    "## Working with worksheets\n",
    "### Loading a worksheet"
   ]
  },
  {
   "cell_type": "markdown",
   "metadata": {},
   "source": [
    "Another component of an Excel file are of course *worksheets*.\\\n",
    "To open it one uses the `read_excel` function as for opening an Excel file, but with some different parameters.\\\n",
    "I can open a single worksheet either by its index or by its name.\n"
   ]
  },
  {
   "cell_type": "code",
   "execution_count": null,
   "metadata": {},
   "outputs": [],
   "source": [
    "movies_sheet_by_name = pd.read_excel(excel_file, sheet_name=\"2000s\", index_col=0)\n",
    "movies_sheet_by_index = pd.read_excel(excel_file, sheet_name=1, index_col=0)"
   ]
  },
  {
   "cell_type": "code",
   "execution_count": null,
   "metadata": {},
   "outputs": [],
   "source": [
    "print(movies_sheet_by_index[\"Genres\"].head(3))"
   ]
  },
  {
   "cell_type": "code",
   "execution_count": null,
   "metadata": {},
   "outputs": [],
   "source": [
    "print(movies_sheet_by_name[\"Genres\"].head(3))"
   ]
  },
  {
   "cell_type": "markdown",
   "metadata": {},
   "source": [
    "### Retrieve sheet information"
   ]
  },
  {
   "cell_type": "markdown",
   "metadata": {},
   "source": [
    "Now there are a few things I still need to know about this table.\n",
    "- How many sheets there are in this Excel table\n",
    "- The name of each sheet\n",
    "- How many columns there are in each sheet\n",
    "- The name of each colunm (if they have one)\n",
    "\n",
    "To my surprise, despite a long time asking Dr. Google, there is **no simple way of getting the list of worksheets**, nor to know how many of them exist.\\\n",
    "So I cannot iterate through them. A bit surprising, as for me this is a very basic and important feature."
   ]
  },
  {
   "cell_type": "markdown",
   "metadata": {},
   "source": [
    "### Merge the content of different sheets (with same content)"
   ]
  },
  {
   "cell_type": "markdown",
   "metadata": {},
   "source": [
    "So now let's read each **worksheet separately** and **concatenate** them to one single table"
   ]
  },
  {
   "cell_type": "code",
   "execution_count": null,
   "metadata": {},
   "outputs": [],
   "source": [
    "movies_sheet1 = pd.read_excel(excel_file, sheet_name=0, index_col=0)\n",
    "movies_sheet2 = pd.read_excel(excel_file, sheet_name=1, index_col=0)\n",
    "movies_sheet3 = pd.read_excel(excel_file, sheet_name=2, index_col=0)\n",
    "\n",
    "movies = pd.concat([movies_sheet1, movies_sheet2, movies_sheet3])\n",
    "\n",
    "print(\"Size of data base:\",movies.shape)"
   ]
  },
  {
   "cell_type": "markdown",
   "metadata": {},
   "source": [
    "## Revisiting open file and worksheets"
   ]
  },
  {
   "cell_type": "markdown",
   "metadata": {},
   "source": [
    "The `pandas` library offers different ways of opening an Excel file. One is the `read_excel` function as I've learned above. But one can also open it by means of the `ExcelFile` function.\\\n",
    "Here a link to some explanations about the difference between the two:\\\n",
    "https://stackoverflow.com/questions/26474693/excelfile-vs-read-excel-in-pandas \\\n",
    "\n",
    "Reading the Excel file by means `ExcelFile` now provides me with a mean of retrieving the information about the **worksheets** I was looking for, namely **how many** of them are included in the Excel file and their **names**. Now I can also **iterate** through all workseets.\n",
    "\n",
    "The fact the the `pandas` library offers two different functions to read an Excel file is quite confusing, at least for a beginner like me..."
   ]
  },
  {
   "cell_type": "code",
   "execution_count": null,
   "metadata": {},
   "outputs": [],
   "source": [
    "print(\"Number of columns on movies data base:\", len(movies.columns))\n",
    "print(movies.columns)"
   ]
  },
  {
   "cell_type": "code",
   "execution_count": null,
   "metadata": {},
   "outputs": [],
   "source": [
    "xlsx = pd.ExcelFile(excel_file)\n",
    "print(\"The movies database contains\", len(xlsx.sheet_names),\"worksheets\")\n",
    "print(\"And here their names are:\", xlsx.sheet_names)\n"
   ]
  },
  {
   "cell_type": "markdown",
   "metadata": {},
   "source": [
    "### Iterate through worksheets"
   ]
  },
  {
   "cell_type": "markdown",
   "metadata": {},
   "source": [
    "And now lets iterate through them and generate the same database as above:"
   ]
  },
  {
   "cell_type": "code",
   "execution_count": null,
   "metadata": {},
   "outputs": [],
   "source": [
    "movies_sheets = []\n",
    "\n",
    "for sheet in xlsx.sheet_names:\n",
    "    movies_sheets.append(xlsx.parse(sheet))\n",
    "    movies = pd.concat(movies_sheets)\n",
    "\n",
    "# print some 5 lines at the end\n",
    "print(movies.shape)"
   ]
  },
  {
   "cell_type": "markdown",
   "metadata": {},
   "source": [
    "### The index column"
   ]
  },
  {
   "cell_type": "markdown",
   "metadata": {},
   "source": [
    "OH! What's that? By opening the Excel file with `ExcelFile`, iterating through each worksheet and merging them with `append`, the resulting `DataFrame` **does not have the same size**!\\\n",
    "What went wrong? \\\n",
    "Let's give a look at some entries:"
   ]
  },
  {
   "cell_type": "code",
   "execution_count": null,
   "metadata": {
    "scrolled": true
   },
   "outputs": [],
   "source": [
    "print(movies.head(3))\n"
   ]
  },
  {
   "cell_type": "code",
   "execution_count": null,
   "metadata": {},
   "outputs": [],
   "source": [
    "print(movies.columns) "
   ]
  },
  {
   "cell_type": "markdown",
   "metadata": {},
   "source": [
    "The colums are the same, but there is an **additional column** named \"index\" in front of them. This represents the index of the row. Not the xls row index, but the index of the entry in the data frame.\\\n",
    "A little bit disconcerting for a beginner."
   ]
  },
  {
   "cell_type": "markdown",
   "metadata": {},
   "source": [
    "# Manipulating the data"
   ]
  },
  {
   "cell_type": "markdown",
   "metadata": {},
   "source": [
    "I want to plot the evolution of the revenue per genre over the years.\\\n",
    "Unfortunately the \"Genres\" column does not contain a unique genre. A cell may contain something like this:\"Comedy|Drama|History|Musical|Romance\". So I have to split and duplicate those lines, to get a single row per genre.\\\n",
    "So I will do the following:\n",
    "  1. Remove entries with empty earnings, year or genre\n",
    "  1. Sort the data according to the \"Genres\" column, in ascending order.\n",
    "  1. For each row:\n",
    "     - Split the genres.\n",
    "     - For each genre:\n",
    "       * Replicate the row\n",
    "       * Replace the genres (all genres) with actual genre\n",
    "       * Distribute the earnings over all genres for the given film\n",
    "  1. Generate a pivot table with \"Genres\" and \"Years\" as index and \"Gross Earnings\" and value\n",
    "  1. Draw a plot for each genre\n",
    "  1. Show the resulting graphic"
   ]
  },
  {
   "cell_type": "markdown",
   "metadata": {},
   "source": [
    "## Step 1: Initialization, cleanup empty entries"
   ]
  },
  {
   "cell_type": "code",
   "execution_count": null,
   "metadata": {},
   "outputs": [],
   "source": [
    "for typ in [\"Gross Earnings\",\"Genres\",\"Year\"]:\n",
    "  movies.dropna(subset=[typ])\n",
    "  movies = movies[movies[typ].notnull()]\n",
    "  movies = movies[movies[typ] != 0 ]\n",
    "\n"
   ]
  },
  {
   "cell_type": "markdown",
   "metadata": {},
   "source": [
    "## Step 2: Calculate \"reverse inflation\"\n",
    "I want to show the the earnings of each genre, but I want them inflation adjusted. A dollar in 1920 is not the same a dollar in 2019. Fortunately I found some database with the inflation satistics since 1920 (or I selected from 1920 to 2019).\\\n",
    "I found the statistics about inflation under the following link: https://www.in2013dollars.com/\n",
    "\n",
    "In order to make my calculations however, it would be simpler if I caculate a \"reverse inflation\", i.e. how much more a dollar from 2019 is worth then one of 1920. So here we load those statistics and calculate this factor for each year."
   ]
  },
  {
   "cell_type": "code",
   "execution_count": null,
   "metadata": {},
   "outputs": [],
   "source": [
    "inflation_file = 'inflation_data.xlsx'\n",
    "inflation = pd.read_excel(inflation_file)\n",
    "\n",
    "# Genrate a new column and initialize all values with a 1.0\n",
    "inflation['rev_inflation']=1.0\n",
    "last_index=len(inflation)-1\n",
    "for i in range(last_index):\n",
    "  inflation.at[i,'rev_inflation'] = inflation.at[last_index,'amount'] / inflation.at[i,'amount']\n"
   ]
  },
  {
   "cell_type": "markdown",
   "metadata": {},
   "source": [
    "## Step 3: Sorting data by genres, in ascending order"
   ]
  },
  {
   "cell_type": "code",
   "execution_count": null,
   "metadata": {},
   "outputs": [],
   "source": [
    "multiple_genre = movies.sort_values(['Genres'], ascending=True)\n",
    "\n",
    "# Save the number of films, use it later\n",
    "total_number_films=len(multiple_genre.index)\n"
   ]
  },
  {
   "cell_type": "markdown",
   "metadata": {},
   "source": [
    "## Step 4: Split genres and duplicate rows"
   ]
  },
  {
   "cell_type": "markdown",
   "metadata": {},
   "source": [
    "Each row shall contain one single genre. So split those genres and dupplicate the row for each single genre.\\\n",
    "I thought this would be a relatively simple task, but I run into trouble when I wanted to duplicate a row.\\\n",
    "There were some issues with the rows data beeing tuples, and so they cannot be modified.\\\n",
    "**Here how to append rows to `DataFrame`**\\\n",
    "https://pandas.pydata.org/pandas-docs/stable/reference/api/pandas.DataFrame.append.htmlead\n",
    "  \n",
    "Instead of modifying the DataFrame (which I cannot), I generate a list, and then convert that list back to a `DataFrame` again.\\\n",
    "Here is my source of information:\\\n",
    "**Merging `DataFrames`**\\\n",
    "https://pandas.pydata.org/pandas-docs/stable/user_guide/merging.html \\\n",
    "**How to append rows to `DataFrame`**\\\n",
    "https://pandas.pydata.org/pandas-docs/stable/reference/api/pandas.DataFrame.append.html \\\n",
    "https://stackoverflow.com/questions/24029659/python-pandas-replicate-rows-in-dataframe/24029921"
   ]
  },
  {
   "cell_type": "markdown",
   "metadata": {},
   "source": [
    "### 4.1 First get some columns indexes (Genre,Year,Earnings)"
   ]
  },
  {
   "cell_type": "code",
   "execution_count": null,
   "metadata": {},
   "outputs": [],
   "source": [
    "# https://stackoverflow.com/questions/13021654/get-column-index-from-column-name-in-python-pandas\n",
    "# First read the index, where the genre is located. Needed later\n",
    "genre_index=multiple_genre.columns.get_loc(\"Genres\")\n",
    "earnings_index=multiple_genre.columns.get_loc(\"Gross Earnings\")\n",
    "year_index=multiple_genre.columns.get_loc(\"Year\")"
   ]
  },
  {
   "cell_type": "markdown",
   "metadata": {},
   "source": [
    "### 4.2 Now fill the list, replicating lines with multiple genres and adjusting for inflation"
   ]
  },
  {
   "cell_type": "code",
   "execution_count": null,
   "metadata": {},
   "outputs": [],
   "source": [
    "# We will plot two list:\n",
    "# 1. As raw data / per genre\n",
    "cal_list = []\n",
    "raw_list = []\n",
    "# Seems itertuples is better than iterrows for doing what I want here\n",
    "for row in multiple_genre.itertuples():\n",
    "    # Split the concatenated genres into an array of genres\n",
    "    genre_list = row.Genres.split(\"|\")\n",
    "    genre_number = len(genre_list)\n",
    "    # print(\"Here is the list [\", len(genre_list),\"]\", genre_list)\n",
    "    \n",
    "    # Read the year of the film\n",
    "    year=int(row[year_index+1])\n",
    "    \n",
    "    # Calculate the factor for this year\n",
    "    factor_indexes=inflation.index[inflation['year'] == year].tolist()\n",
    "    factor=inflation['rev_inflation'][factor_indexes[0]]\n",
    "    \n",
    "    # Create (duplicate) row for each genre found\n",
    "    for genre in genre_list:\n",
    "        # Tuples cannot be modified, so convert to a list and back\n",
    "        temp_lst=list(row)\n",
    "        # The Index has to be removed, temp_lst shall contain the data only\n",
    "        del temp_lst[0]\n",
    "\n",
    "        # Now set the genre\n",
    "        temp_lst[genre_index] = genre\n",
    "\n",
    "        # Distribute the earnings between all genres\n",
    "        # Divide by 1 Mio, we want the graphics in Mio $\n",
    "        temp_lst[earnings_index] = temp_lst[earnings_index] / ( 1000000 * genre_number )\n",
    "        raw_list.append(tuple(temp_lst))\n",
    "        \n",
    "        # Calibrate the earnings, inflation adjusted\n",
    "        temp_lst[earnings_index] = temp_lst[earnings_index] * factor\n",
    "        # Insert this new entry\n",
    "        cal_list.append(tuple(temp_lst))\n"
   ]
  },
  {
   "cell_type": "markdown",
   "metadata": {},
   "source": [
    "### 4.3 Now I just have to convert that list into a DataFrame again"
   ]
  },
  {
   "cell_type": "code",
   "execution_count": null,
   "metadata": {},
   "outputs": [],
   "source": [
    "# Convert now the two lists into a DataFrame\n",
    "raw_unique_genres=pd.DataFrame(raw_list,columns=multiple_genre.columns)\n",
    "unique_genres=pd.DataFrame(cal_list,columns=multiple_genre.columns)"
   ]
  },
  {
   "cell_type": "markdown",
   "metadata": {},
   "source": [
    "Puhhh !!! I am done! This was not easy at all. I spent a lot of time trying to find a solution to this. Only a few lines of code but a lot of Dr Google.\n"
   ]
  },
  {
   "cell_type": "markdown",
   "metadata": {},
   "source": [
    "# Plot and display\n",
    "Now I can demonstrate why Python is so powerfull. There are millions of intelligent people working with it who provide libraries that help you do what you want.\\\n",
    "Here is a very useful one that help me plotting data."
   ]
  },
  {
   "cell_type": "markdown",
   "metadata": {},
   "source": [
    "## Prepare the data for plotting: pivot table"
   ]
  },
  {
   "cell_type": "code",
   "execution_count": null,
   "metadata": {},
   "outputs": [],
   "source": [
    "# https://pbpython.com/pandas-pivot-table-explained.html\n",
    "pc=pd.pivot_table(unique_genres,index=[\"Genres\",\"Year\"],values=[\"Gross Earnings\"],aggfunc=np.sum)\n",
    "pr=pd.pivot_table(raw_unique_genres,index=[\"Genres\",\"Year\"],values=[\"Gross Earnings\"],aggfunc=np.sum)\n",
    "\n"
   ]
  },
  {
   "cell_type": "markdown",
   "metadata": {},
   "source": [
    "## And I can already plot the data"
   ]
  },
  {
   "cell_type": "code",
   "execution_count": null,
   "metadata": {},
   "outputs": [],
   "source": [
    "# Define the plot size\n",
    "# Get current size\n",
    "fig_size = plt.rcParams[\"figure.figsize\"]\n",
    "fig_size[0] = 12\n",
    "fig_size[1] = 6\n",
    "plt.rcParams[\"figure.figsize\"] = fig_size\n",
    "\n",
    "# Now plotting some of the genres\n",
    "data_set=[{\"text\":\"Raw earnings\",\"data\":pr},{\"text\":\"Inflation adjusted earnings\",\"data\":pc}]\n",
    "for p in data_set:\n",
    "  print(p['text'])\n",
    "  data = p['data'].loc[\"Action\"]\n",
    "  plt.plot(data.index,data.values,label=\"Action\")\n",
    "  data = p['data'].loc[\"Drama\"]\n",
    "  plt.plot(data.index,data.values,label=\"Drama\")\n",
    "  data = p['data'].loc[\"Thriller\"]\n",
    "  plt.plot(data.index,data.values,label=\"Thriller\")\n",
    "  data = p['data'].loc[\"Sci-Fi\"]\n",
    "  plt.plot(data.index,data.values,label=\"Sci-Fi\")\n",
    "  data = p['data'].loc[\"Romance\"]\n",
    "  plt.plot(data.index,data.values,label=\"Romance\")\n",
    "  plt.legend(bbox_to_anchor=(1.05, 1), loc='upper left')\n",
    "  plt.xlabel('Years')\n",
    "  plt.ylabel('Earnings [Mio $]')\n",
    "  plt.show()\n",
    "\n"
   ]
  },
  {
   "cell_type": "markdown",
   "metadata": {},
   "source": [
    "# Conclusion\n",
    "It was a nice experience to realize how much I was able to achieve with actually very little programming experience. I was very satisified as I finally saw my statsistics displayed. Funny to see that the earnings of \"Gone with the Wind\", when taking inflation into account, was at least as profitable as today's movies (with much less spectators).\n",
    "\n",
    "Though this programming experience was interesting, it also became clear to me that I would need much more effort to be able to master it. I actually spent more time looking for solution on Google than actually programming.\n",
    "\n",
    "First, performing this kind of tasks need a much broader programming experience, notabely in Python. My actual knowledge is by far not sufficient for an efficient work. I still miss a lot of basic knowledge (tuples, dictionaries, classes, ...).\n",
    "\n",
    "Second there is a problem inherant to Python itself. Many libraries are available to help you achieve your goals, and this is a very nice think. But often more than just one library is available for a given functionality. Which one shall I chose? I must be an \"expert\" in different alternative libraries to be able to evaluate. For instance I chose to use *matplotlib* for drawing. But I later saw some comments criticizing it, saying the graphic quality is not so good. So what do you do in that case? Shall you rewrite all your code. Or if you notice after a while, that the library you have chosen does not offer the functionality you happen to need after three months coding?\n",
    "\n",
    "I hope that this project, where I could comment my approach 'live', may be interesting and motivating for other students who wants to go deeper. I think I could show the problems that begginers encounter when they start such a \"big\" project. I hope my work can be useful to other beginners. I would never have been able to do it without the support of some more exprienced programmers.\n"
   ]
  }
 ],
 "metadata": {
  "kernelspec": {
   "display_name": "Python 3",
   "language": "python",
   "name": "python3"
  },
  "language_info": {
   "codemirror_mode": {
    "name": "ipython",
    "version": 3
   },
   "file_extension": ".py",
   "mimetype": "text/x-python",
   "name": "python",
   "nbconvert_exporter": "python",
   "pygments_lexer": "ipython3",
   "version": "3.7.3"
  }
 },
 "nbformat": 4,
 "nbformat_minor": 2
}
